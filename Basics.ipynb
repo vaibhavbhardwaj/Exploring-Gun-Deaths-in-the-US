{
 "cells": [
  {
   "cell_type": "code",
   "execution_count": 44,
   "metadata": {
    "collapsed": false
   },
   "outputs": [
    {
     "name": "stdout",
     "output_type": "stream",
     "text": [
      "[['', 'year', 'month', 'intent', 'police', 'sex', 'age', 'race', 'hispanic', 'place', 'education'], ['1', '2012', '01', 'Suicide', '0', 'M', '34', 'Asian/Pacific Islander', '100', 'Home', '4'], ['2', '2012', '01', 'Suicide', '0', 'F', '21', 'White', '100', 'Street', '3'], ['3', '2012', '01', 'Suicide', '0', 'M', '60', 'White', '100', 'Other specified', '4'], ['4', '2012', '02', 'Suicide', '0', 'M', '64', 'White', '100', 'Home', '4']]\n"
     ]
    }
   ],
   "source": [
    "import csv\n",
    "open_csv_file = open(\"guns.csv\",'r')\n",
    "data=list(csv.reader(open_csv_file))\n",
    "print (data[:5])\n"
   ]
  },
  {
   "cell_type": "code",
   "execution_count": 45,
   "metadata": {
    "collapsed": false
   },
   "outputs": [
    {
     "name": "stdout",
     "output_type": "stream",
     "text": [
      "[['1', '2012', '01', 'Suicide', '0', 'M', '34', 'Asian/Pacific Islander', '100', 'Home', '4'], ['2', '2012', '01', 'Suicide', '0', 'F', '21', 'White', '100', 'Street', '3'], ['3', '2012', '01', 'Suicide', '0', 'M', '60', 'White', '100', 'Other specified', '4'], ['4', '2012', '02', 'Suicide', '0', 'M', '64', 'White', '100', 'Home', '4'], ['5', '2012', '02', 'Suicide', '0', 'M', '31', 'White', '100', 'Other specified', '2']]\n"
     ]
    }
   ],
   "source": [
    "#removing header row\n",
    "headers = data[0]\n",
    "data = data[1:]\n",
    "print(data[:5])"
   ]
  },
  {
   "cell_type": "code",
   "execution_count": 46,
   "metadata": {
    "collapsed": false
   },
   "outputs": [
    {
     "name": "stdout",
     "output_type": "stream",
     "text": [
      "{'2014': 33599, '2012': 33563, '2013': 33636}\n"
     ]
    }
   ],
   "source": [
    "#total deaths in year\n",
    "years = [row[1] for row in data ]\n",
    "year_count=dict()\n",
    "for year in years:\n",
    "    if year in year_count:\n",
    "        year_count[year]+=1\n",
    "    else:\n",
    "        year_count[year] = 1\n",
    "\n",
    "print (year_count)"
   ]
  },
  {
   "cell_type": "code",
   "execution_count": 47,
   "metadata": {
    "collapsed": false
   },
   "outputs": [],
   "source": [
    "import datetime\n",
    "dates = [datetime.datetime(year = int(row[1]), month = int(row[2]), day = 2) for row in data]\n"
   ]
  },
  {
   "cell_type": "code",
   "execution_count": 48,
   "metadata": {
    "collapsed": false
   },
   "outputs": [
    {
     "name": "stdout",
     "output_type": "stream",
     "text": [
      "{datetime.datetime(2014, 2, 2, 0, 0): 2361, datetime.datetime(2014, 8, 2, 0, 0): 2970, datetime.datetime(2013, 1, 2, 0, 0): 2864, datetime.datetime(2012, 2, 2, 0, 0): 2357, datetime.datetime(2012, 12, 2, 0, 0): 2791, datetime.datetime(2012, 11, 2, 0, 0): 2729, datetime.datetime(2014, 5, 2, 0, 0): 2864, datetime.datetime(2014, 9, 2, 0, 0): 2914, datetime.datetime(2012, 1, 2, 0, 0): 2758, datetime.datetime(2013, 6, 2, 0, 0): 2920, datetime.datetime(2012, 4, 2, 0, 0): 2795, datetime.datetime(2013, 7, 2, 0, 0): 3079, datetime.datetime(2012, 5, 2, 0, 0): 2999, datetime.datetime(2013, 12, 2, 0, 0): 2765, datetime.datetime(2014, 1, 2, 0, 0): 2651, datetime.datetime(2014, 10, 2, 0, 0): 2865, datetime.datetime(2013, 8, 2, 0, 0): 2859, datetime.datetime(2013, 10, 2, 0, 0): 2808, datetime.datetime(2014, 12, 2, 0, 0): 2857, datetime.datetime(2014, 7, 2, 0, 0): 2884, datetime.datetime(2012, 6, 2, 0, 0): 2826, datetime.datetime(2012, 9, 2, 0, 0): 2852, datetime.datetime(2013, 2, 2, 0, 0): 2375, datetime.datetime(2014, 4, 2, 0, 0): 2862, datetime.datetime(2013, 3, 2, 0, 0): 2862, datetime.datetime(2013, 5, 2, 0, 0): 2806, datetime.datetime(2013, 11, 2, 0, 0): 2758, datetime.datetime(2012, 7, 2, 0, 0): 3026, datetime.datetime(2012, 3, 2, 0, 0): 2743, datetime.datetime(2012, 8, 2, 0, 0): 2954, datetime.datetime(2013, 4, 2, 0, 0): 2798, datetime.datetime(2014, 3, 2, 0, 0): 2684, datetime.datetime(2012, 10, 2, 0, 0): 2733, datetime.datetime(2014, 6, 2, 0, 0): 2931, datetime.datetime(2013, 9, 2, 0, 0): 2742, datetime.datetime(2014, 11, 2, 0, 0): 2756}\n"
     ]
    }
   ],
   "source": [
    "#total deaths per date\n",
    "date_count=dict()\n",
    "for date in dates:\n",
    "    if date in date_count:\n",
    "        date_count[date]= date_count[date] +1\n",
    "    else:\n",
    "        date_count[date] = 1\n",
    "print(date_count)"
   ]
  },
  {
   "cell_type": "code",
   "execution_count": 49,
   "metadata": {
    "collapsed": false
   },
   "outputs": [
    {
     "name": "stdout",
     "output_type": "stream",
     "text": [
      "{'Native American/Native Alaskan': 917, 'Asian/Pacific Islander': 1326, 'White': 66237, 'Hispanic': 9022, 'Black': 23296}\n",
      "{'F': 14449, 'M': 86349}\n"
     ]
    }
   ],
   "source": [
    "sex_counts=dict()\n",
    "race_counts=dict()\n",
    "for row in data:\n",
    "    gender = row[5]\n",
    "    race=row[7]\n",
    "    if gender in sex_counts:\n",
    "        sex_counts[gender]= sex_counts[gender] +1\n",
    "    else:\n",
    "        sex_counts[gender] = 1\n",
    "    if race in race_counts:\n",
    "        race_counts[race]=race_counts[race]+1\n",
    "    else:\n",
    "        race_counts[race]=1\n",
    "print(race_counts)\n",
    "print(sex_counts)"
   ]
  },
  {
   "cell_type": "markdown",
   "metadata": {},
   "source": [
    "Till now I have studied number of deaths per year, per month. Total deaths y each race and sex. Need census data for further studies"
   ]
  },
  {
   "cell_type": "code",
   "execution_count": 50,
   "metadata": {
    "collapsed": false
   },
   "outputs": [
    {
     "name": "stdout",
     "output_type": "stream",
     "text": [
      "[['Id', 'Year', 'Id', 'Sex', 'Id', 'Hispanic Origin', 'Id', 'Id2', 'Geography', 'Total', 'Race Alone - White', 'Race Alone - Hispanic', 'Race Alone - Black or African American', 'Race Alone - American Indian and Alaska Native', 'Race Alone - Asian', 'Race Alone - Native Hawaiian and Other Pacific Islander', 'Two or More Races'], ['cen42010', 'April 1, 2010 Census', 'totsex', 'Both Sexes', 'tothisp', 'Total', '0100000US', '', 'United States', '308745538', '197318956', '44618105', '40250635', '3739506', '15159516', '674625', '6984195']]\n"
     ]
    }
   ],
   "source": [
    "import csv\n",
    "open_csv_file = open(\"census.csv\",'r')\n",
    "data1=list(csv.reader(open_csv_file))\n",
    "print (data1)\n"
   ]
  },
  {
   "cell_type": "code",
   "execution_count": 51,
   "metadata": {
    "collapsed": false
   },
   "outputs": [
    {
     "name": "stdout",
     "output_type": "stream",
     "text": [
      "44618105\n"
     ]
    }
   ],
   "source": [
    "mapping= {'Asian/Pacific Islander':15834141 , \"Black\": 44618105 , \"Hispanic\": 44618105,\n",
    "         \"Native American/Native Alaskan\":3739506 , \"White\" :197318956}\n",
    "print(mapping['Hispanic'])"
   ]
  },
  {
   "cell_type": "code",
   "execution_count": 52,
   "metadata": {
    "collapsed": false
   },
   "outputs": [
    {
     "name": "stdout",
     "output_type": "stream",
     "text": [
      "{'Native American/Native Alaskan': 24.521955573811088, 'Asian/Pacific Islander': 8.374309664161762, 'White': 33.56849303419181, 'Hispanic': 20.220491210910907, 'Black': 52.211988832784364}\n"
     ]
    }
   ],
   "source": [
    "#deaths per 10k in every race\n",
    "race_per_hundredk = dict()\n",
    "for key in race_counts:\n",
    "    race_per_hundredk[key] = (race_counts[key]/mapping[key])*100000 \n",
    "print(race_per_hundredk)"
   ]
  },
  {
   "cell_type": "code",
   "execution_count": 53,
   "metadata": {
    "collapsed": false
   },
   "outputs": [
    {
     "name": "stdout",
     "output_type": "stream",
     "text": [
      "100798\n"
     ]
    }
   ],
   "source": [
    "intents= [row[3] for row in data]\n",
    "races= [row[7] for row in data]\n",
    "print(len(data))\n"
   ]
  },
  {
   "cell_type": "code",
   "execution_count": 54,
   "metadata": {
    "collapsed": false
   },
   "outputs": [
    {
     "name": "stdout",
     "output_type": "stream",
     "text": [
      "{'Native American/Native Alaskan': 326, 'Asian/Pacific Islander': 559, 'White': 9147, 'Hispanic': 5634, 'Black': 19510}\n"
     ]
    }
   ],
   "source": [
    "homicide_race_counts=dict()\n",
    "for i,race in enumerate(races):\n",
    "    if(intents[i] == 'Homicide'):\n",
    "        if race in homicide_race_counts:\n",
    "            homicide_race_counts[race] = homicide_race_counts[race]+1\n",
    "        else:\n",
    "            homicide_race_counts[race]=1\n",
    "print(homicide_race_counts)"
   ]
  },
  {
   "cell_type": "code",
   "execution_count": 55,
   "metadata": {
    "collapsed": false
   },
   "outputs": [
    {
     "name": "stdout",
     "output_type": "stream",
     "text": [
      "{'Native American/Native Alaskan': 24.521955573811088, 'Asian/Pacific Islander': 8.374309664161762, 'White': 33.56849303419181, 'Hispanic': 20.220491210910907, 'Black': 52.211988832784364}\n"
     ]
    }
   ],
   "source": [
    "homicide_race_hundredk = dict()\n",
    "for key in homicide_race_counts:\n",
    "    homicide_race_hundredk[key] = (homicide_race_counts[key]/mapping[key])*100000 \n",
    "print(race_per_hundredk)"
   ]
  },
  {
   "cell_type": "code",
   "execution_count": null,
   "metadata": {
    "collapsed": true
   },
   "outputs": [],
   "source": []
  }
 ],
 "metadata": {
  "kernelspec": {
   "display_name": "Python 3",
   "language": "python",
   "name": "python3"
  },
  "language_info": {
   "codemirror_mode": {
    "name": "ipython",
    "version": 3
   },
   "file_extension": ".py",
   "mimetype": "text/x-python",
   "name": "python",
   "nbconvert_exporter": "python",
   "pygments_lexer": "ipython3",
   "version": "3.4.3"
  }
 },
 "nbformat": 4,
 "nbformat_minor": 0
}
